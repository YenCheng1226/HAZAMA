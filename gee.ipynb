{
 "cells": [
  {
   "cell_type": "code",
   "execution_count": 1,
   "metadata": {},
   "outputs": [
    {
     "name": "stdout",
     "output_type": "stream",
     "text": [
      "Paste the following address into a web browser:\n",
      "\n",
      "    https://code.earthengine.google.com/client-auth?scopes=https%3A//www.googleapis.com/auth/earthengine%20https%3A//www.googleapis.com/auth/cloud-platform%20https%3A//www.googleapis.com/auth/drive%20https%3A//www.googleapis.com/auth/devstorage.full_control&request_id=L-QTYMRb_KvfnBPPAgnIv5d8diFJz3cdiM-bm0hTV20&tc=osnUEsi5gBOjLrnFMiEHXSVvkE_Yg212GjZja4R5YQY&cc=e2LkcMC16lYnVO4NR0okS7TfskIFYO-IX1PmSY3EUpg\n",
      "\n",
      "On the web page, please authorize access to your Earth Engine account and copy the authentication code. Next authenticate with the following command:\n",
      "\n",
      "    earthengine authenticate --code-verifier=L-QTYMRb_KvfnBPPAgnIv5d8diFJz3cdiM-bm0hTV20:4wg_g1lebk0bf6-GP3dX2kLvDMOZXd94N26h1X2whpk:0d3fOswhb0LLUfwtx3sjoujNrpBGgsieDeipNisV7Js --authorization-code=PLACE_AUTH_CODE_HERE\n",
      "\n"
     ]
    },
    {
     "ename": "EEException",
     "evalue": "Cannot authenticate: Invalid request.",
     "output_type": "error",
     "traceback": [
      "\u001b[31m---------------------------------------------------------------------------\u001b[39m",
      "\u001b[31mEEException\u001b[39m                               Traceback (most recent call last)",
      "\u001b[36mCell\u001b[39m\u001b[36m \u001b[39m\u001b[32mIn[1]\u001b[39m\u001b[32m, line 10\u001b[39m\n\u001b[32m      5\u001b[39m \u001b[38;5;28;01mimport\u001b[39;00m\u001b[38;5;250m \u001b[39m\u001b[34;01mee\u001b[39;00m\n\u001b[32m      7\u001b[39m \u001b[38;5;66;03m# Method 1: Interactive authentication (for local development or Jupyter Notebooks)\u001b[39;00m\n\u001b[32m      8\u001b[39m \u001b[38;5;66;03m# This method will open a browser window to log in with your Google account.\u001b[39;00m\n\u001b[32m      9\u001b[39m \u001b[38;5;66;03m# Use this when running locally for the first time or if no credentials are stored.\u001b[39;00m\n\u001b[32m---> \u001b[39m\u001b[32m10\u001b[39m \u001b[43mee\u001b[49m\u001b[43m.\u001b[49m\u001b[43mAuthenticate\u001b[49m\u001b[43m(\u001b[49m\u001b[43mquiet\u001b[49m\u001b[43m=\u001b[49m\u001b[38;5;28;43;01mTrue\u001b[39;49;00m\u001b[43m)\u001b[49m\n\u001b[32m     12\u001b[39m \u001b[38;5;66;03m# Initialize Earth Engine (automatically uses default credentials if already authenticated)\u001b[39;00m\n\u001b[32m     13\u001b[39m ee.Initialize()\n",
      "\u001b[36mFile \u001b[39m\u001b[32mc:\\Users\\luchi\\miniconda3\\envs\\myenv\\Lib\\site-packages\\ee\\__init__.py:158\u001b[39m, in \u001b[36mAuthenticate\u001b[39m\u001b[34m(authorization_code, quiet, code_verifier, auth_mode, scopes, force)\u001b[39m\n\u001b[32m    127\u001b[39m \u001b[38;5;28;01mdef\u001b[39;00m\u001b[38;5;250m \u001b[39m\u001b[34mAuthenticate\u001b[39m(\n\u001b[32m    128\u001b[39m     authorization_code: Optional[\u001b[38;5;28mstr\u001b[39m] = \u001b[38;5;28;01mNone\u001b[39;00m,\n\u001b[32m    129\u001b[39m     quiet: Optional[\u001b[38;5;28mbool\u001b[39m] = \u001b[38;5;28;01mNone\u001b[39;00m,\n\u001b[32m   (...)\u001b[39m\u001b[32m    133\u001b[39m     force: \u001b[38;5;28mbool\u001b[39m = \u001b[38;5;28;01mFalse\u001b[39;00m,\n\u001b[32m    134\u001b[39m ) -> Optional[\u001b[38;5;28mbool\u001b[39m]:\n\u001b[32m    135\u001b[39m \u001b[38;5;250m  \u001b[39m\u001b[33;03m\"\"\"Prompts the user to authorize access to Earth Engine via OAuth2.\u001b[39;00m\n\u001b[32m    136\u001b[39m \n\u001b[32m    137\u001b[39m \u001b[33;03m  Args:\u001b[39;00m\n\u001b[32m   (...)\u001b[39m\u001b[32m    156\u001b[39m \u001b[33;03m    True if we found valid credentials and didn't run the auth flow.\u001b[39;00m\n\u001b[32m    157\u001b[39m \u001b[33;03m  \"\"\"\u001b[39;00m\n\u001b[32m--> \u001b[39m\u001b[32m158\u001b[39m   \u001b[38;5;28;01mreturn\u001b[39;00m \u001b[43moauth\u001b[49m\u001b[43m.\u001b[49m\u001b[43mauthenticate\u001b[49m\u001b[43m(\u001b[49m\u001b[43mauthorization_code\u001b[49m\u001b[43m,\u001b[49m\u001b[43m \u001b[49m\u001b[43mquiet\u001b[49m\u001b[43m,\u001b[49m\u001b[43m \u001b[49m\u001b[43mcode_verifier\u001b[49m\u001b[43m,\u001b[49m\u001b[43m \u001b[49m\u001b[43mauth_mode\u001b[49m\u001b[43m,\u001b[49m\n\u001b[32m    159\u001b[39m \u001b[43m                            \u001b[49m\u001b[43mscopes\u001b[49m\u001b[43m,\u001b[49m\u001b[43m \u001b[49m\u001b[43mforce\u001b[49m\u001b[43m)\u001b[49m\n",
      "\u001b[36mFile \u001b[39m\u001b[32mc:\\Users\\luchi\\miniconda3\\envs\\myenv\\Lib\\site-packages\\ee\\oauth.py:547\u001b[39m, in \u001b[36mauthenticate\u001b[39m\u001b[34m(cli_authorization_code, quiet, cli_code_verifier, auth_mode, scopes, force)\u001b[39m\n\u001b[32m    544\u001b[39m \u001b[38;5;28;01mif\u001b[39;00m flow.display_instructions(quiet):\n\u001b[32m    545\u001b[39m   _open_new_browser(flow.auth_url)\n\u001b[32m--> \u001b[39m\u001b[32m547\u001b[39m \u001b[43mflow\u001b[49m\u001b[43m.\u001b[49m\u001b[43msave_code\u001b[49m\u001b[43m(\u001b[49m\u001b[43m)\u001b[49m\n",
      "\u001b[36mFile \u001b[39m\u001b[32mc:\\Users\\luchi\\miniconda3\\envs\\myenv\\Lib\\site-packages\\ee\\oauth.py:597\u001b[39m, in \u001b[36mFlow.save_code\u001b[39m\u001b[34m(self, code)\u001b[39m\n\u001b[32m    595\u001b[39m   redirect_uri = \u001b[38;5;28mself\u001b[39m.server.url\n\u001b[32m    596\u001b[39m   code = \u001b[38;5;28mself\u001b[39m.server.fetch_code()  \u001b[38;5;66;03m# Waits for oauth callback\u001b[39;00m\n\u001b[32m--> \u001b[39m\u001b[32m597\u001b[39m \u001b[43m_obtain_and_write_token\u001b[49m\u001b[43m(\u001b[49m\u001b[43mcode\u001b[49m\u001b[43m,\u001b[49m\u001b[43m \u001b[49m\u001b[38;5;28;43mself\u001b[39;49m\u001b[43m.\u001b[49m\u001b[43mcode_verifier\u001b[49m\u001b[43m,\u001b[49m\u001b[43m \u001b[49m\u001b[38;5;28;43mself\u001b[39;49m\u001b[43m.\u001b[49m\u001b[43mscopes\u001b[49m\u001b[43m,\u001b[49m\u001b[43m \u001b[49m\u001b[43mredirect_uri\u001b[49m\u001b[43m)\u001b[49m\n",
      "\u001b[36mFile \u001b[39m\u001b[32mc:\\Users\\luchi\\miniconda3\\envs\\myenv\\Lib\\site-packages\\ee\\oauth.py:269\u001b[39m, in \u001b[36m_obtain_and_write_token\u001b[39m\u001b[34m(auth_code, code_verifier, scopes, redirect_uri)\u001b[39m\n\u001b[32m    266\u001b[39m fetched_info = json.loads(\n\u001b[32m    267\u001b[39m     urllib.request.urlopen(fetch_client).read().decode())\n\u001b[32m    268\u001b[39m \u001b[38;5;28;01mif\u001b[39;00m \u001b[33m'\u001b[39m\u001b[33merror\u001b[39m\u001b[33m'\u001b[39m \u001b[38;5;129;01min\u001b[39;00m fetched_info:\n\u001b[32m--> \u001b[39m\u001b[32m269\u001b[39m   \u001b[38;5;28;01mraise\u001b[39;00m ee_exception.EEException(\n\u001b[32m    270\u001b[39m       \u001b[33m'\u001b[39m\u001b[33mCannot authenticate: \u001b[39m\u001b[38;5;132;01m%s\u001b[39;00m\u001b[33m'\u001b[39m % fetched_info[\u001b[33m'\u001b[39m\u001b[33merror\u001b[39m\u001b[33m'\u001b[39m]\n\u001b[32m    271\u001b[39m   )\n\u001b[32m    272\u001b[39m client_info = {k: fetched_info[k] \u001b[38;5;28;01mfor\u001b[39;00m k \u001b[38;5;129;01min\u001b[39;00m [\u001b[33m'\u001b[39m\u001b[33mclient_id\u001b[39m\u001b[33m'\u001b[39m, \u001b[33m'\u001b[39m\u001b[33mclient_secret\u001b[39m\u001b[33m'\u001b[39m]}\n\u001b[32m    273\u001b[39m scopes = fetched_info.get(\u001b[33m'\u001b[39m\u001b[33mscopes\u001b[39m\u001b[33m'\u001b[39m) \u001b[38;5;129;01mor\u001b[39;00m scopes\n",
      "\u001b[31mEEException\u001b[39m: Cannot authenticate: Invalid request."
     ]
    }
   ],
   "source": [
    "# ===========================================\n",
    "# Earth Engine Initialization and Authentication\n",
    "# ===========================================\n",
    "\n",
    "import ee\n",
    "\n",
    "# Method 1: Interactive authentication (for local development or Jupyter Notebooks)\n",
    "# This method will open a browser window to log in with your Google account.\n",
    "# Use this when running locally for the first time or if no credentials are stored.\n",
    "ee.Authenticate(quiet=True)\n",
    "\n",
    "# Initialize Earth Engine (automatically uses default credentials if already authenticated)\n",
    "ee.Initialize()\n",
    "\n",
    "# Test the initialization\n",
    "print(ee.String('GEE initialized').getInfo())"
   ]
  },
  {
   "cell_type": "code",
   "execution_count": null,
   "metadata": {},
   "outputs": [
    {
     "name": "stdout",
     "output_type": "stream",
     "text": [
      "GEE initialized\n"
     ]
    },
    {
     "ename": "",
     "evalue": "",
     "output_type": "error",
     "traceback": [
      "\u001b[1;31mThe Kernel crashed while executing code in the current cell or a previous cell. \n",
      "\u001b[1;31mPlease review the code in the cell(s) to identify a possible cause of the failure. \n",
      "\u001b[1;31mClick <a href='https://aka.ms/vscodeJupyterKernelCrash'>here</a> for more info. \n",
      "\u001b[1;31mView Jupyter <a href='command:jupyter.viewOutput'>log</a> for further details."
     ]
    }
   ],
   "source": [
    "# Method 2: Service account authentication (for automated pipelines or server deployment)\n",
    "# Note: The service account JSON key file must be located in the same directory as this script.\n",
    "\n",
    "credentials = ee.ServiceAccountCredentials(\n",
    "     'changsome.1@gmail.com',  # Service account email\n",
    "     'global-flood-mapping-a7463d9cfde6.json'  # Path to service account key file\n",
    " )\n",
    "ee.Initialize(credentials)\n",
    "\n",
    "# Test the initialization\n",
    "print(ee.String('GEE initialized').getInfo())"
   ]
  },
  {
   "cell_type": "code",
   "execution_count": null,
   "metadata": {},
   "outputs": [],
   "source": [
    "# ===========================================\n",
    "# Interactive Map Initialization\n",
    "# ===========================================\n",
    "\n",
    "# Import geemap, interactive mapping\n",
    "import geemap\n",
    "\n",
    "# Initialize an interactive map using geemap\n",
    "m = geemap.Map()\n",
    "\n",
    "# Note: If this is the last line of a cell, you can omit 'display()' and just write 'm'\n",
    "display(m)"
   ]
  },
  {
   "cell_type": "code",
   "execution_count": null,
   "metadata": {},
   "outputs": [],
   "source": [
    "# ===========================================\n",
    "# SAR Image Collection and Multi-Temporal Mean Visualization\n",
    "# ===========================================\n",
    "\n",
    "# Define a function to mask out the low-value edges of the SAR image\n",
    "def mask_edge(image):\n",
    "    \"\"\"\n",
    "    Masks the edge areas of a Sentinel-1 SAR image where backscatter is very low.\n",
    "\n",
    "    Args:\n",
    "        image (ee.Image): Input SAR image (VV polarization)\n",
    "\n",
    "    Returns:\n",
    "        ee.Image: Image with low-value edges masked out\n",
    "    \"\"\"\n",
    "    edge = image.lt(-30.0)  # Identify areas with backscatter < -30 dB (likely noisy edges)\n",
    "    masked_image = image.mask().And(edge.Not())  # Keep valid areas only\n",
    "    return image.updateMask(masked_image)\n",
    "\n",
    "\n",
    "# Create an ImageCollection of Sentinel-1 SAR images with VV polarization and IW mode\n",
    "img_vv = (\n",
    "    ee.ImageCollection('COPERNICUS/S1_GRD')\n",
    "    .filter(ee.Filter.listContains('transmitterReceiverPolarisation', 'VV'))  # VV polarization only\n",
    "    .filter(ee.Filter.eq('instrumentMode', 'IW'))  # Interferometric Wide (IW) mode\n",
    "    .select('VV')  # Select VV band\n",
    "    .map(mask_edge)  # Apply edge masking function\n",
    ")\n",
    "\n",
    "# Split the collection into descending and ascending orbit tracks\n",
    "desc = img_vv.filter(ee.Filter.eq('orbitProperties_pass', 'DESCENDING'))\n",
    "asc = img_vv.filter(ee.Filter.eq('orbitProperties_pass', 'ASCENDING'))\n",
    "\n",
    "# Define seasonal date filters\n",
    "spring = ee.Filter.date('2015-03-01', '2015-04-20')\n",
    "late_spring = ee.Filter.date('2015-04-21', '2015-06-10')\n",
    "summer = ee.Filter.date('2015-06-11', '2015-08-31')\n",
    "\n",
    "# Create a composite image stacking the mean of each period (descending)\n",
    "desc_change = ee.Image.cat(\n",
    "    desc.filter(spring).mean(),\n",
    "    desc.filter(late_spring).mean(),\n",
    "    desc.filter(summer).mean(),\n",
    ")\n",
    "\n",
    "# Create a composite image stacking the mean of each period (ascending)\n",
    "asc_change = ee.Image.cat(\n",
    "    asc.filter(spring).mean(),\n",
    "    asc.filter(late_spring).mean(),\n",
    "    asc.filter(summer).mean(),\n",
    ")\n",
    "\n",
    "# Initialize the map\n",
    "m = geemap.Map()\n",
    "m.set_center(5.2013, 47.3277, 12)  # Center on a location (example: Dijon, France)\n",
    "\n",
    "# Add the multi-temporal mean images to the map\n",
    "m.add_layer(\n",
    "    asc_change,\n",
    "    {'min': -25, 'max': 5},\n",
    "    'Multi-T Mean ASC',\n",
    "    True\n",
    ")\n",
    "m.add_layer(\n",
    "    desc_change,\n",
    "    {'min': -25, 'max': 5},\n",
    "    'Multi-T Mean DESC',\n",
    "    True\n",
    ")\n",
    "\n",
    "# Display the map\n",
    "m"
   ]
  },
  {
   "cell_type": "markdown",
   "metadata": {},
   "source": [
    "## Flood Detection Using Sentinel-1 SAR Imagery"
   ]
  },
  {
   "cell_type": "code",
   "execution_count": null,
   "metadata": {},
   "outputs": [],
   "source": [
    "# ===========================================\n",
    "# Flood Detection Using Sentinel-1 SAR Imagery\n",
    "# ===========================================\n",
    "\n",
    "# Define the region of interest (ROI)\n",
    "geometry = ee.Geometry.Polygon([\n",
    "    [\n",
    "        [106.34954329522984, -6.449380562588049],\n",
    "        [107.33007308038609, -6.449380562588049],\n",
    "        [107.33007308038609, -5.900522745264385],\n",
    "        [106.34954329522984, -5.900522745264385]\n",
    "    ]\n",
    "])\n",
    "\n",
    "# Initialize and center the map on the ROI\n",
    "Map = geemap.Map()\n",
    "Map.centerObject(geometry, 10)\n",
    "\n",
    "# Sentinel-1 SAR image collection: before the flood event\n",
    "sar_before = (\n",
    "    ee.ImageCollection(\"COPERNICUS/S1_GRD\")\n",
    "    .filterDate('2019-12-20', '2019-12-29')\n",
    "    .filterBounds(geometry)\n",
    "    .filter(ee.Filter.listContains('transmitterReceiverPolarisation', 'VV'))\n",
    "    .filter(ee.Filter.eq('instrumentMode', 'IW'))\n",
    "    .filter(ee.Filter.eq('orbitProperties_pass', 'ASCENDING'))\n",
    "    .select('VV')\n",
    "    .map(lambda img: img.focalMean(60, 'square', 'meters')\n",
    "         .copyProperties(img, img.propertyNames()))\n",
    ")\n",
    "\n",
    "# Sentinel-1 SAR image collection: after the flood event\n",
    "sar_after = (\n",
    "    ee.ImageCollection(\"COPERNICUS/S1_GRD\")\n",
    "    .filterDate('2019-12-30', '2020-01-03')\n",
    "    .filterBounds(geometry)\n",
    "    .filter(ee.Filter.listContains('transmitterReceiverPolarisation', 'VV'))\n",
    "    .filter(ee.Filter.eq('instrumentMode', 'IW'))\n",
    "    .filter(ee.Filter.eq('orbitProperties_pass', 'ASCENDING'))\n",
    "    .select('VV')\n",
    "    .map(lambda img: img.focalMean(60, 'square', 'meters')\n",
    "         .copyProperties(img, img.propertyNames()))\n",
    ")\n",
    "\n",
    "# Compute the difference between before and after images\n",
    "change = sar_before.min().subtract(sar_after.min())\n",
    "\n",
    "# Load a permanent water mask from Dynamic World (2018–2021)\n",
    "water_mask = (\n",
    "    ee.ImageCollection(\"GOOGLE/DYNAMICWORLD/V1\")\n",
    "    .select('label')\n",
    "    .filterDate('2018', '2021')\n",
    "    .filterBounds(geometry)\n",
    "    .mode()\n",
    "    .eq(0)  # Class 0 = Water\n",
    "    .Not()  # Invert: True where NOT permanent water\n",
    ")\n",
    "\n",
    "# Threshold change detection (>5 dB difference) and apply the water mask\n",
    "thr = change.gt(5).updateMask(water_mask)\n",
    "flooded = thr.updateMask(thr)\n",
    "\n",
    "# Calculate flooded area in square kilometers\n",
    "area_img = flooded.multiply(ee.Image.pixelArea().divide(1e6))\n",
    "flood_area = area_img.reduceRegion(\n",
    "    reducer=ee.Reducer.sum(),\n",
    "    geometry=geometry,\n",
    "    scale=60\n",
    ")\n",
    "\n",
    "# Print the flooded area result\n",
    "print(flood_area.getInfo())\n",
    "\n",
    "# Add layers to the map\n",
    "Map.addLayer(sar_before.min().clip(geometry), {}, \"SAR Before\")\n",
    "Map.addLayer(sar_after.min().clip(geometry), {}, \"SAR After\")\n",
    "Map.addLayer(change.clip(geometry), {}, \"Change Detection\")\n",
    "Map.addLayer(flooded.clip(geometry), {\"palette\": [\"blue\"]}, \"Detected Flooded Areas\")\n",
    "\n",
    "# Display the interactive map\n",
    "Map"
   ]
  },
  {
   "cell_type": "markdown",
   "metadata": {},
   "source": [
    "## Search for SAR overlay in an area"
   ]
  },
  {
   "cell_type": "markdown",
   "metadata": {},
   "source": [
    "### Oriniginal method"
   ]
  },
  {
   "cell_type": "code",
   "execution_count": null,
   "metadata": {},
   "outputs": [],
   "source": [
    "# Create a rectangular bounding box geometry\n",
    "area = ee.Geometry.Rectangle([106.3, -6.4, 107.3, -5.9])\n",
    "\n",
    "# Define the date range\n",
    "start_date = '2019-12-30'\n",
    "end_date = '2020-01-30'\n",
    "\n",
    "# Load Sentinel-1 Image Collection for the given bounding box\n",
    "sentinel1 = (ee.ImageCollection('COPERNICUS/S1_GRD')\n",
    "             .filterBounds(area)\n",
    "             .filterDate(start_date, end_date)\n",
    "             .filter(ee.Filter.listContains('transmitterReceiverPolarisation', 'VV'))\n",
    "             .filter(ee.Filter.eq('instrumentMode', 'IW'))\n",
    "             .select('VV'))"
   ]
  },
  {
   "cell_type": "code",
   "execution_count": null,
   "metadata": {},
   "outputs": [],
   "source": [
    "image_list = sentinel1.toList(sentinel1.size())\n",
    "\n",
    "for i in range(sentinel1.size().getInfo()): # 每次用 getInfo() 取 metadata 都要和 GEE server 請求一次\n",
    "    image = ee.Image(image_list.get(i))\n",
    "    segment_start_time = image.get('segmentStartTime')\n",
    "    formatted_time = ee.Date(segment_start_time).format('YYYY-MM-dd HH:mm:ss').getInfo() if segment_start_time else \"N/A\" # 每次都要請求都要轉換一次時間\n",
    "    print(f\"Image {i+1} - segmentStartTime: {formatted_time}\")"
   ]
  },
  {
   "cell_type": "markdown",
   "metadata": {},
   "source": [
    "### Optimized version"
   ]
  },
  {
   "cell_type": "code",
   "execution_count": null,
   "metadata": {},
   "outputs": [],
   "source": [
    "from datetime import datetime\n",
    "\n",
    "# Define the bounding box and date range\n",
    "area = ee.Geometry.Rectangle([106.3, -6.4, 107.3, -5.9])\n",
    "start_date = '2019-12-30'\n",
    "end_date = '2020-01-30'\n",
    "\n",
    "# Load Sentinel-1 Image Collection\n",
    "sentinel1 = (ee.ImageCollection('COPERNICUS/S1_GRD')\n",
    "             .filterBounds(area)\n",
    "             .filterDate(start_date, end_date)\n",
    "             .filter(ee.Filter.listContains('transmitterReceiverPolarisation', 'VV'))\n",
    "             .filter(ee.Filter.eq('instrumentMode', 'IW'))\n",
    "             .select('VV'))\n",
    "\n",
    "# Get all segmentStartTime and IDs in one go .aggregate_array()\n",
    "times = sentinel1.aggregate_array('segmentStartTime').getInfo()\n",
    "ids = sentinel1.aggregate_array('system:id').getInfo()\n",
    "\n",
    "# Print results\n",
    "for i, (img_id, timestamp) in enumerate(zip(ids, times)):\n",
    "    if timestamp:\n",
    "        # Always treat as milliseconds since epoch\n",
    "        dt = datetime.utcfromtimestamp(timestamp / 1000.0)\n",
    "        formatted_time = dt.strftime('%Y-%m-%d %H:%M:%S')\n",
    "    else:\n",
    "        formatted_time = \"N/A\"\n",
    "    print(f\"Image {i+1} - ID: {img_id} - segmentStartTime: {formatted_time}\")"
   ]
  }
 ],
 "metadata": {
  "kernelspec": {
   "display_name": "myenv",
   "language": "python",
   "name": "python3"
  },
  "language_info": {
   "codemirror_mode": {
    "name": "ipython",
    "version": 3
   },
   "file_extension": ".py",
   "mimetype": "text/x-python",
   "name": "python",
   "nbconvert_exporter": "python",
   "pygments_lexer": "ipython3",
   "version": "3.11.13"
  },
  "polyglot_notebook": {
   "kernelInfo": {
    "defaultKernelName": "csharp",
    "items": [
     {
      "aliases": [],
      "name": "csharp"
     }
    ]
   }
  }
 },
 "nbformat": 4,
 "nbformat_minor": 2
}
