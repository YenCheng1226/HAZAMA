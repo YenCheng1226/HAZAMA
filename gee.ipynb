{
 "cells": [
  {
   "cell_type": "code",
   "execution_count": 2,
   "metadata": {},
   "outputs": [],
   "source": [
    "# ===========================================\n",
    "# Earth Engine Initialization and Authentication\n",
    "# ===========================================\n",
    "\n",
    "##import ee\n",
    "\n",
    "# Method 1: Interactive authentication (for local development or Jupyter Notebooks)\n",
    "# This method will open a browser window to log in with your Google account.\n",
    "# Use this when running locally for the first time or if no credentials are stored.\n",
    "##ee.Authenticate(quiet=True)\n",
    "\n",
    "# Initialize Earth Engine (automatically uses default credentials if already authenticated)\n",
    "##ee.Initialize()\n",
    "\n",
    "# Test the initialization\n",
    "##print(ee.String('GEE initialized').getInfo())"
   ]
  },
  {
   "cell_type": "code",
   "execution_count": 1,
   "metadata": {},
   "outputs": [
    {
     "name": "stdout",
     "output_type": "stream",
     "text": [
      "GEE initialized\n"
     ]
    }
   ],
   "source": [
    "# Method 2: Service account authentication (for automated pipelines or server deployment)\n",
    "# Note: The service account JSON key file must be located in the same directory as this script.\n",
    "import ee\n",
    "credentials = ee.ServiceAccountCredentials(\n",
    "     'blue051407@gmail.com',  # Service account email\n",
    "     'global-flood-mapping-a7463d9cfde6.json'  # Path to service account key file\n",
    " )\n",
    "ee.Initialize(credentials)\n",
    "\n",
    "# Test the initialization\n",
    "print(ee.String('GEE initialized').getInfo())"
   ]
  },
  {
   "cell_type": "code",
   "execution_count": null,
   "metadata": {},
   "outputs": [
    {
     "data": {
      "text/html": [
       "<p>To authorize access needed by Earth Engine, open the following\n",
       "        URL in a web browser and follow the instructions:</p>\n",
       "        <p><a href=https://code.earthengine.google.com/client-auth?scopes=https%3A//www.googleapis.com/auth/earthengine%20https%3A//www.googleapis.com/auth/cloud-platform%20https%3A//www.googleapis.com/auth/drive%20https%3A//www.googleapis.com/auth/devstorage.full_control&request_id=gz31Q4FNeZq6aVEEHo1aWj9wkU0cScxQdxfjzNmGZG8&tc=TckFbLq1fWdjOG-wrHDtJblvGp0OyuKGgCWt9yvNSdg&cc=20DJgQDf-SnVur5-EUkwAO27mgZHGWhTxCT1cnsU8Yg>https://code.earthengine.google.com/client-auth?scopes=https%3A//www.googleapis.com/auth/earthengine%20https%3A//www.googleapis.com/auth/cloud-platform%20https%3A//www.googleapis.com/auth/drive%20https%3A//www.googleapis.com/auth/devstorage.full_control&request_id=gz31Q4FNeZq6aVEEHo1aWj9wkU0cScxQdxfjzNmGZG8&tc=TckFbLq1fWdjOG-wrHDtJblvGp0OyuKGgCWt9yvNSdg&cc=20DJgQDf-SnVur5-EUkwAO27mgZHGWhTxCT1cnsU8Yg</a></p>\n",
       "        <p>The authorization workflow will generate a code, which you should paste in the box below.</p>\n",
       "        "
      ],
      "text/plain": [
       "<IPython.core.display.HTML object>"
      ]
     },
     "metadata": {},
     "output_type": "display_data"
    }
   ],
   "source": [
    "# ===========================================\n",
    "# Interactive Map Initialization\n",
    "# ===========================================\n",
    "\n",
    "# Import geemap, interactive mapping\n",
    "import geemap\n",
    "\n",
    "# Initialize an interactive map using geemap\n",
    "m = geemap.Map()\n",
    "\n",
    "# Note: If this is the last line of a cell, you can omit 'display()' and just write 'm'\n",
    "display(m)"
   ]
  },
  {
   "cell_type": "code",
   "execution_count": 6,
   "metadata": {},
   "outputs": [
    {
     "data": {
      "text/html": [
       "\n",
       "            <style>\n",
       "                .geemap-dark {\n",
       "                    --jp-widgets-color: white;\n",
       "                    --jp-widgets-label-color: white;\n",
       "                    --jp-ui-font-color1: white;\n",
       "                    --jp-layout-color2: #454545;\n",
       "                    background-color: #383838;\n",
       "                }\n",
       "\n",
       "                .geemap-dark .jupyter-button {\n",
       "                    --jp-layout-color3: #383838;\n",
       "                }\n",
       "\n",
       "                .geemap-colab {\n",
       "                    background-color: var(--colab-primary-surface-color, white);\n",
       "                }\n",
       "\n",
       "                .geemap-colab .jupyter-button {\n",
       "                    --jp-layout-color3: var(--colab-primary-surface-color, white);\n",
       "                }\n",
       "            </style>\n",
       "            "
      ],
      "text/plain": [
       "<IPython.core.display.HTML object>"
      ]
     },
     "metadata": {},
     "output_type": "display_data"
    },
    {
     "data": {
      "application/vnd.jupyter.widget-view+json": {
       "model_id": "1a7f33c9e5084ff8b954e22aff6e6a7a",
       "version_major": 2,
       "version_minor": 0
      },
      "text/plain": [
       "Map(center=[47.3277, 5.2013], controls=(WidgetControl(options=['position', 'transparent_bg'], widget=SearchDat…"
      ]
     },
     "execution_count": 6,
     "metadata": {},
     "output_type": "execute_result"
    }
   ],
   "source": [
    "# ===========================================\n",
    "# SAR Image Collection and Multi-Temporal Mean Visualization\n",
    "# ===========================================\n",
    "\n",
    "# Define a function to mask out the low-value edges of the SAR image\n",
    "def mask_edge(image):\n",
    "    \"\"\"\n",
    "    Masks the edge areas of a Sentinel-1 SAR image where backscatter is very low.\n",
    "    \n",
    "    Args:\n",
    "        image (ee.Image): Input SAR image (VV polarization)\n",
    "    \n",
    "    Returns:\n",
    "        ee.Image: Image with low-value edges masked out\n",
    "    \"\"\"\n",
    "    edge = image.lt(-30.0)  # Identify areas with backscatter < -30 dB (likely noisy edges)\n",
    "    masked_image = image.mask().And(edge.Not())  # Keep valid areas only\n",
    "    return image.updateMask(masked_image)\n",
    "\n",
    "\n",
    "# Create an ImageCollection of Sentinel-1 SAR images with VV polarization and IW mode\n",
    "img_vv = (\n",
    "    ee.ImageCollection('COPERNICUS/S1_GRD')\n",
    "    .filter(ee.Filter.listContains('transmitterReceiverPolarisation', 'VV'))  # VV polarization only\n",
    "    .filter(ee.Filter.eq('instrumentMode', 'IW'))  # Interferometric Wide (IW) mode\n",
    "    .select('VV')  # Select VV band\n",
    "    .map(mask_edge)  # Apply edge masking function\n",
    ")\n",
    "\n",
    "# Split the collection into descending and ascending orbit tracks\n",
    "desc = img_vv.filter(ee.Filter.eq('orbitProperties_pass', 'DESCENDING'))\n",
    "asc = img_vv.filter(ee.Filter.eq('orbitProperties_pass', 'ASCENDING'))\n",
    "\n",
    "# Define seasonal date filters\n",
    "spring = ee.Filter.date('2015-03-01', '2015-04-20')\n",
    "late_spring = ee.Filter.date('2015-04-21', '2015-06-10')\n",
    "summer = ee.Filter.date('2015-06-11', '2015-08-31')\n",
    "\n",
    "# Create a composite image stacking the mean of each period (descending)\n",
    "desc_change = ee.Image.cat(\n",
    "    desc.filter(spring).mean(),\n",
    "    desc.filter(late_spring).mean(),\n",
    "    desc.filter(summer).mean(),\n",
    ")\n",
    "\n",
    "# Create a composite image stacking the mean of each period (ascending)\n",
    "asc_change = ee.Image.cat(\n",
    "    asc.filter(spring).mean(),\n",
    "    asc.filter(late_spring).mean(),\n",
    "    asc.filter(summer).mean(),\n",
    ")\n",
    "\n",
    "# Initialize the map\n",
    "m = geemap.Map()\n",
    "m.set_center(5.2013, 47.3277, 12)  # Center on a location (example: Dijon, France)\n",
    "\n",
    "# Add the multi-temporal mean images to the map\n",
    "m.add_layer(\n",
    "    asc_change,\n",
    "    {'min': -25, 'max': 5},\n",
    "    'Multi-T Mean ASC',\n",
    "    True\n",
    ")\n",
    "m.add_layer(\n",
    "    desc_change,\n",
    "    {'min': -25, 'max': 5},\n",
    "    'Multi-T Mean DESC',\n",
    "    True\n",
    ")\n",
    "\n",
    "# Display the map\n",
    "m"
   ]
  },
  {
   "cell_type": "markdown",
   "metadata": {},
   "source": [
    "## Flood Detection Using Sentinel-1 SAR Imagery"
   ]
  },
  {
   "cell_type": "code",
   "execution_count": 7,
   "metadata": {},
   "outputs": [
    {
     "data": {
      "text/html": [
       "\n",
       "            <style>\n",
       "                .geemap-dark {\n",
       "                    --jp-widgets-color: white;\n",
       "                    --jp-widgets-label-color: white;\n",
       "                    --jp-ui-font-color1: white;\n",
       "                    --jp-layout-color2: #454545;\n",
       "                    background-color: #383838;\n",
       "                }\n",
       "\n",
       "                .geemap-dark .jupyter-button {\n",
       "                    --jp-layout-color3: #383838;\n",
       "                }\n",
       "\n",
       "                .geemap-colab {\n",
       "                    background-color: var(--colab-primary-surface-color, white);\n",
       "                }\n",
       "\n",
       "                .geemap-colab .jupyter-button {\n",
       "                    --jp-layout-color3: var(--colab-primary-surface-color, white);\n",
       "                }\n",
       "            </style>\n",
       "            "
      ],
      "text/plain": [
       "<IPython.core.display.HTML object>"
      ]
     },
     "metadata": {},
     "output_type": "display_data"
    },
    {
     "name": "stdout",
     "output_type": "stream",
     "text": [
      "{'VV': 130.39439367585376}\n"
     ]
    },
    {
     "data": {
      "application/vnd.jupyter.widget-view+json": {
       "model_id": "8dfe07ac501d467e9d5e57d084bc1061",
       "version_major": 2,
       "version_minor": 0
      },
      "text/plain": [
       "Map(center=[-6.175128557541481, 106.839808187808], controls=(WidgetControl(options=['position', 'transparent_b…"
      ]
     },
     "execution_count": 7,
     "metadata": {},
     "output_type": "execute_result"
    }
   ],
   "source": [
    "# ===========================================\n",
    "# Flood Detection Using Sentinel-1 SAR Imagery\n",
    "# ===========================================\n",
    "\n",
    "# Define the region of interest (ROI)\n",
    "geometry = ee.Geometry.Polygon([\n",
    "    [\n",
    "        [106.34954329522984, -6.449380562588049],\n",
    "        [107.33007308038609, -6.449380562588049],\n",
    "        [107.33007308038609, -5.900522745264385],\n",
    "        [106.34954329522984, -5.900522745264385]\n",
    "    ]\n",
    "])\n",
    "\n",
    "# Initialize and center the map on the ROI\n",
    "Map = geemap.Map()\n",
    "Map.centerObject(geometry, 10)\n",
    "\n",
    "# Sentinel-1 SAR image collection: before the flood event\n",
    "sar_before = (\n",
    "    ee.ImageCollection(\"COPERNICUS/S1_GRD\")\n",
    "    .filterDate('2019-12-20', '2019-12-29')\n",
    "    .filterBounds(geometry)\n",
    "    .filter(ee.Filter.listContains('transmitterReceiverPolarisation', 'VV'))\n",
    "    .filter(ee.Filter.eq('instrumentMode', 'IW'))\n",
    "    .filter(ee.Filter.eq('orbitProperties_pass', 'ASCENDING'))\n",
    "    .select('VV')\n",
    "    .map(lambda img: img.focalMean(60, 'square', 'meters')\n",
    "         .copyProperties(img, img.propertyNames()))\n",
    ")\n",
    "\n",
    "# Sentinel-1 SAR image collection: after the flood event\n",
    "sar_after = (\n",
    "    ee.ImageCollection(\"COPERNICUS/S1_GRD\")\n",
    "    .filterDate('2019-12-30', '2020-01-03')\n",
    "    .filterBounds(geometry)\n",
    "    .filter(ee.Filter.listContains('transmitterReceiverPolarisation', 'VV'))\n",
    "    .filter(ee.Filter.eq('instrumentMode', 'IW'))\n",
    "    .filter(ee.Filter.eq('orbitProperties_pass', 'ASCENDING'))\n",
    "    .select('VV')\n",
    "    .map(lambda img: img.focalMean(60, 'square', 'meters')\n",
    "         .copyProperties(img, img.propertyNames()))\n",
    ")\n",
    "\n",
    "# Compute the difference between before and after images\n",
    "change = sar_before.min().subtract(sar_after.min())\n",
    "\n",
    "# Load a permanent water mask from Dynamic World (2018–2021)\n",
    "water_mask = (\n",
    "    ee.ImageCollection(\"GOOGLE/DYNAMICWORLD/V1\")\n",
    "    .select('label')\n",
    "    .filterDate('2018', '2021')\n",
    "    .filterBounds(geometry)\n",
    "    .mode()\n",
    "    .eq(0)  # Class 0 = Water\n",
    "    .Not()  # Invert: True where NOT permanent water\n",
    ")\n",
    "\n",
    "# Threshold change detection (>5 dB difference) and apply the water mask\n",
    "thr = change.gt(5).updateMask(water_mask)\n",
    "flooded = thr.updateMask(thr)\n",
    "\n",
    "# Calculate flooded area in square kilometers\n",
    "area_img = flooded.multiply(ee.Image.pixelArea().divide(1e6))\n",
    "flood_area = area_img.reduceRegion(\n",
    "    reducer=ee.Reducer.sum(),\n",
    "    geometry=geometry,\n",
    "    scale=60\n",
    ")\n",
    "\n",
    "# Print the flooded area result\n",
    "print(flood_area.getInfo())\n",
    "\n",
    "# Add layers to the map\n",
    "Map.addLayer(sar_before.min().clip(geometry), {}, \"SAR Before\")\n",
    "Map.addLayer(sar_after.min().clip(geometry), {}, \"SAR After\")\n",
    "Map.addLayer(change.clip(geometry), {}, \"Change Detection\")\n",
    "Map.addLayer(flooded.clip(geometry), {\"palette\": [\"blue\"]}, \"Detected Flooded Areas\")\n",
    "\n",
    "# Display the interactive map\n",
    "Map"
   ]
  },
  {
   "cell_type": "markdown",
   "metadata": {},
   "source": [
    "## Search for SAR overlay in an area"
   ]
  },
  {
   "cell_type": "markdown",
   "metadata": {},
   "source": [
    "### Oriniginal method"
   ]
  },
  {
   "cell_type": "code",
   "execution_count": null,
   "metadata": {},
   "outputs": [],
   "source": [
    "# Create a rectangular bounding box geometry\n",
    "area = ee.Geometry.Rectangle([106.3, -6.4, 107.3, -5.9])\n",
    "\n",
    "# Define the date range\n",
    "start_date = '2019-12-30'\n",
    "end_date = '2020-01-30'\n",
    "\n",
    "# Load Sentinel-1 Image Collection for the given bounding box\n",
    "sentinel1 = (ee.ImageCollection('COPERNICUS/S1_GRD')\n",
    "             .filterBounds(area)\n",
    "             .filterDate(start_date, end_date)\n",
    "             .filter(ee.Filter.listContains('transmitterReceiverPolarisation', 'VV'))\n",
    "             .filter(ee.Filter.eq('instrumentMode', 'IW'))\n",
    "             .select('VV'))"
   ]
  },
  {
   "cell_type": "code",
   "execution_count": null,
   "metadata": {},
   "outputs": [],
   "source": [
    "image_list = sentinel1.toList(sentinel1.size())\n",
    "\n",
    "for i in range(sentinel1.size().getInfo()): # 每次用 getInfo() 取 metadata 都要和 GEE server 請求一次\n",
    "    image = ee.Image(image_list.get(i))\n",
    "    segment_start_time = image.get('segmentStartTime')\n",
    "    formatted_time = ee.Date(segment_start_time).format('YYYY-MM-dd HH:mm:ss').getInfo() if segment_start_time else \"N/A\" # 每次都要請求都要轉換一次時間\n",
    "    print(f\"Image {i+1} - segmentStartTime: {formatted_time}\")"
   ]
  },
  {
   "cell_type": "markdown",
   "metadata": {},
   "source": [
    "### Optimized version"
   ]
  },
  {
   "cell_type": "code",
   "execution_count": 9,
   "metadata": {},
   "outputs": [
    {
     "data": {
      "text/html": [
       "\n",
       "            <style>\n",
       "                .geemap-dark {\n",
       "                    --jp-widgets-color: white;\n",
       "                    --jp-widgets-label-color: white;\n",
       "                    --jp-ui-font-color1: white;\n",
       "                    --jp-layout-color2: #454545;\n",
       "                    background-color: #383838;\n",
       "                }\n",
       "\n",
       "                .geemap-dark .jupyter-button {\n",
       "                    --jp-layout-color3: #383838;\n",
       "                }\n",
       "\n",
       "                .geemap-colab {\n",
       "                    background-color: var(--colab-primary-surface-color, white);\n",
       "                }\n",
       "\n",
       "                .geemap-colab .jupyter-button {\n",
       "                    --jp-layout-color3: var(--colab-primary-surface-color, white);\n",
       "                }\n",
       "            </style>\n",
       "            "
      ],
      "text/plain": [
       "<IPython.core.display.HTML object>"
      ]
     },
     "metadata": {},
     "output_type": "display_data"
    }
   ],
   "source": [
    "from datetime import datetime\n",
    "\n",
    "def mask_s2_clouds(image):\n",
    "    qa = image.select('QA60')\n",
    "    cloud_bit_mask = 1 << 10\n",
    "    cirrus_bit_mask = 1 << 11\n",
    "    mask = (\n",
    "        qa.bitwiseAnd(cloud_bit_mask).eq(0)\n",
    "        .And(qa.bitwiseAnd(cirrus_bit_mask).eq(0))\n",
    "    )\n",
    "    return image.updateMask(mask).divide(10000)\n",
    "\n",
    "# Define the bounding box and date range\n",
    "area = ee.Geometry.Rectangle([106.3, -6.4, 107.3, -5.9])\n",
    "start_date = '2020-01-01'\n",
    "end_date = '2020-01-30'\n",
    "\n",
    "# Load Sentinel-1 Image Collection\n",
    "sentinel2 = (ee.ImageCollection('COPERNICUS/S2_SR_HARMONIZED')\n",
    "             .filterBounds(area)\n",
    "             .filterDate(start_date, end_date)\n",
    "             .filter(ee.Filter.lt('CLOUDY_PIXEL_PERCENTAGE', 20))  # Sentinel-2 沒有 polarisation 與模式選項\n",
    "             .map(mask_s2_clouds)\n",
    "             .select(['B2', 'B3', 'B4', 'B8'])\n",
    "            )\n",
    "\n",
    "\n",
    "\n",
    "\n",
    "# Get all segmentStartTime and IDs in one go .aggregate_array()\n",
    "times = sentinel2.aggregate_array('system:time_start').getInfo()\n",
    "ids = sentinel2.aggregate_array('system:id').getInfo()\n",
    "\n",
    "# Print results\n",
    "for i, (img_id, timestamp) in enumerate(zip(ids, times)):\n",
    "    if timestamp:\n",
    "        # Always treat as milliseconds since epoch\n",
    "        dt = datetime.utcfromtimestamp(timestamp / 1000.0)\n",
    "        formatted_time = dt.strftime('%Y-%m-%d %H:%M:%S')\n",
    "    else:\n",
    "        formatted_time = \"N/A\"\n",
    "    print(f\"Image {i+1} - ID: {img_id} - segmentStartTime: {formatted_time}\")"
   ]
  },
  {
   "cell_type": "code",
   "execution_count": 4,
   "metadata": {},
   "outputs": [
    {
     "ename": "EEException",
     "evalue": "Please authorize access to your Earth Engine account by running\n\nearthengine authenticate\n\nin your command line, or ee.Authenticate() in Python, and then retry.",
     "output_type": "error",
     "traceback": [
      "\u001b[1;31m---------------------------------------------------------------------------\u001b[0m",
      "\u001b[1;31mEEException\u001b[0m                               Traceback (most recent call last)",
      "Cell \u001b[1;32mIn[4], line 10\u001b[0m\n\u001b[0;32m      7\u001b[0m \u001b[38;5;28;01mfrom\u001b[39;00m \u001b[38;5;21;01mdatetime\u001b[39;00m \u001b[38;5;28;01mimport\u001b[39;00m datetime\n\u001b[0;32m      9\u001b[0m \u001b[38;5;66;03m# 初始化 Earth Engine\u001b[39;00m\n\u001b[1;32m---> 10\u001b[0m ee\u001b[38;5;241m.\u001b[39mInitialize()\n\u001b[0;32m     12\u001b[0m \u001b[38;5;66;03m# 定義感興趣區域與日期範圍\u001b[39;00m\n\u001b[0;32m     13\u001b[0m area \u001b[38;5;241m=\u001b[39m ee\u001b[38;5;241m.\u001b[39mGeometry\u001b[38;5;241m.\u001b[39mRectangle([\u001b[38;5;241m106.3\u001b[39m, \u001b[38;5;241m-\u001b[39m\u001b[38;5;241m6.4\u001b[39m, \u001b[38;5;241m107.3\u001b[39m, \u001b[38;5;241m-\u001b[39m\u001b[38;5;241m5.9\u001b[39m])\n",
      "File \u001b[1;32mC:\\00000\\Lib\\site-packages\\ee\\_utils.py:38\u001b[0m, in \u001b[0;36maccept_opt_prefix.<locals>.opt_fixed.<locals>.wrapper\u001b[1;34m(*args, **kwargs)\u001b[0m\n\u001b[0;32m     36\u001b[0m     \u001b[38;5;28;01mif\u001b[39;00m new_key \u001b[38;5;129;01mnot\u001b[39;00m \u001b[38;5;129;01min\u001b[39;00m kwargs:\n\u001b[0;32m     37\u001b[0m       kwargs[new_key] \u001b[38;5;241m=\u001b[39m old_key_val\n\u001b[1;32m---> 38\u001b[0m \u001b[38;5;28;01mreturn\u001b[39;00m func(\u001b[38;5;241m*\u001b[39margs, \u001b[38;5;241m*\u001b[39m\u001b[38;5;241m*\u001b[39mkwargs)\n",
      "File \u001b[1;32mC:\\00000\\Lib\\site-packages\\ee\\__init__.py:187\u001b[0m, in \u001b[0;36mInitialize\u001b[1;34m(credentials, url, cloud_api_key, http_transport, project)\u001b[0m\n\u001b[0;32m    170\u001b[0m \u001b[38;5;250m\u001b[39m\u001b[38;5;124;03m\"\"\"Initialize the EE library.\u001b[39;00m\n\u001b[0;32m    171\u001b[0m \n\u001b[0;32m    172\u001b[0m \u001b[38;5;124;03mIf this hasn't been called by the time any object constructor is used,\u001b[39;00m\n\u001b[1;32m   (...)\u001b[0m\n\u001b[0;32m    184\u001b[0m \u001b[38;5;124;03m  project: The client project ID or number to use when making API calls.\u001b[39;00m\n\u001b[0;32m    185\u001b[0m \u001b[38;5;124;03m\"\"\"\u001b[39;00m\n\u001b[0;32m    186\u001b[0m \u001b[38;5;28;01mif\u001b[39;00m credentials \u001b[38;5;241m==\u001b[39m \u001b[38;5;124m'\u001b[39m\u001b[38;5;124mpersistent\u001b[39m\u001b[38;5;124m'\u001b[39m:\n\u001b[1;32m--> 187\u001b[0m   credentials \u001b[38;5;241m=\u001b[39m data\u001b[38;5;241m.\u001b[39mget_persistent_credentials()\n\u001b[0;32m    188\u001b[0m \u001b[38;5;28;01mif\u001b[39;00m \u001b[38;5;129;01mnot\u001b[39;00m project \u001b[38;5;129;01mand\u001b[39;00m credentials \u001b[38;5;129;01mand\u001b[39;00m \u001b[38;5;28mhasattr\u001b[39m(credentials, \u001b[38;5;124m'\u001b[39m\u001b[38;5;124mquota_project_id\u001b[39m\u001b[38;5;124m'\u001b[39m):\n\u001b[0;32m    189\u001b[0m   project \u001b[38;5;241m=\u001b[39m credentials\u001b[38;5;241m.\u001b[39mquota_project_id\n",
      "File \u001b[1;32mC:\\00000\\Lib\\site-packages\\ee\\data.py:281\u001b[0m, in \u001b[0;36mget_persistent_credentials\u001b[1;34m()\u001b[0m\n\u001b[0;32m    279\u001b[0m   \u001b[38;5;28;01mif\u001b[39;00m oauth\u001b[38;5;241m.\u001b[39mis_valid_credentials(credentials):\n\u001b[0;32m    280\u001b[0m     \u001b[38;5;28;01mreturn\u001b[39;00m credentials\n\u001b[1;32m--> 281\u001b[0m \u001b[38;5;28;01mraise\u001b[39;00m ee_exception\u001b[38;5;241m.\u001b[39mEEException(  \u001b[38;5;66;03m# pylint: disable=raise-missing-from\u001b[39;00m\n\u001b[0;32m    282\u001b[0m     \u001b[38;5;124m'\u001b[39m\u001b[38;5;124mPlease authorize access to your Earth Engine account by \u001b[39m\u001b[38;5;124m'\u001b[39m\n\u001b[0;32m    283\u001b[0m     \u001b[38;5;124m'\u001b[39m\u001b[38;5;124mrunning\u001b[39m\u001b[38;5;130;01m\\n\u001b[39;00m\u001b[38;5;130;01m\\n\u001b[39;00m\u001b[38;5;124mearthengine authenticate\u001b[39m\u001b[38;5;130;01m\\n\u001b[39;00m\u001b[38;5;130;01m\\n\u001b[39;00m\u001b[38;5;124m'\u001b[39m\n\u001b[0;32m    284\u001b[0m     \u001b[38;5;124m'\u001b[39m\u001b[38;5;124min your command line, or ee.Authenticate() in Python, and then retry.\u001b[39m\u001b[38;5;124m'\u001b[39m\n\u001b[0;32m    285\u001b[0m )\n",
      "\u001b[1;31mEEException\u001b[0m: Please authorize access to your Earth Engine account by running\n\nearthengine authenticate\n\nin your command line, or ee.Authenticate() in Python, and then retry."
     ]
    }
   ],
   "source": [
    "###\n",
    "import geemap\n",
    "\n",
    "image = sentinel1.median().clip(area)\n",
    "import ee\n",
    "\n",
    "from datetime import datetime\n",
    "\n",
    "# 初始化 Earth Engine\n",
    "ee.Initialize()\n",
    "\n",
    "# 定義感興趣區域與日期範圍\n",
    "area = ee.Geometry.Rectangle([106.3, -6.4, 107.3, -5.9])\n",
    "start_date = '2019-12-30'\n",
    "end_date = '2020-01-30'\n",
    "\n",
    "# 篩選 Sentinel-1 VV 資料\n",
    "collection = (ee.ImageCollection('COPERNICUS/S2_SR_HARMONIZED')\n",
    "              .filterBounds(area)\n",
    "              .filterDate(start_date, end_date)\n",
    "              .filter(ee.Filter.listContains('transmitterReceiverPolarisation', 'VV'))\n",
    "              .filter(ee.Filter.eq('instrumentMode', 'IW'))\n",
    "              .select('VV'))\n",
    "\n",
    "# 將 ImageCollection 轉為 list\n",
    "image_list = collection.toList(collection.size())\n",
    "\n",
    "# 定義視覺化參數\n",
    "vis_params = {\n",
    "    'min': -25,\n",
    "    'max': 0,\n",
    "    'palette': [ 'black','white']\n",
    "}\n",
    "\n",
    "# 建立地圖\n",
    "Map = geemap.Map(center=[-6.2, 106.8], zoom=10)\n",
    "\n",
    "# 加入每張影像作為一個圖層\n",
    "for i in range(collection.size().getInfo()):\n",
    "    image = ee.Image(image_list.get(i))\n",
    "    timestamp = image.get('system:time_start').getInfo()\n",
    "    dt = datetime.utcfromtimestamp(timestamp / 1000.0)\n",
    "    time_str = dt.strftime('%Y-%m-%d %H:%M:%S')\n",
    "    layer_name = f\"S1 VV - {time_str}\"\n",
    "    \n",
    "    # 加入圖層到地圖\n",
    "    Map.addLayer(image.clip(area), vis_params, layer_name)\n",
    "\n",
    "# 加入區域邊框\n",
    "Map.addLayer(area, {}, 'AOI')\n",
    "\n",
    "# 顯示圖層控制\n",
    "Map.addLayerControl()\n",
    "\n",
    "# 顯示地圖\n",
    "Map\n",
    "\n",
    "\n",
    "#geemap.download_ee_image(image, filename='test.tif', region=area, scale=10, crs='EPSG:4326')"
   ]
  }
 ],
 "metadata": {
  "kernelspec": {
   "display_name": "Python 3 (ipykernel)",
   "language": "python",
   "name": "python3"
  },
  "language_info": {
   "codemirror_mode": {
    "name": "ipython",
    "version": 3
   },
   "file_extension": ".py",
   "mimetype": "text/x-python",
   "name": "python",
   "nbconvert_exporter": "python",
   "pygments_lexer": "ipython3",
   "version": "3.11.5"
  }
 },
 "nbformat": 4,
 "nbformat_minor": 4
}
