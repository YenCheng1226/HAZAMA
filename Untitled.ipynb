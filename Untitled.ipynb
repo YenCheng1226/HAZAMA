{
 "cells": [
  {
   "cell_type": "code",
   "execution_count": 2,
   "id": "a56083f1-ff57-438e-9025-85137712a88a",
   "metadata": {},
   "outputs": [
    {
     "data": {
      "text/html": [
       "\n",
       "            <style>\n",
       "                .geemap-dark {\n",
       "                    --jp-widgets-color: white;\n",
       "                    --jp-widgets-label-color: white;\n",
       "                    --jp-ui-font-color1: white;\n",
       "                    --jp-layout-color2: #454545;\n",
       "                    background-color: #383838;\n",
       "                }\n",
       "\n",
       "                .geemap-dark .jupyter-button {\n",
       "                    --jp-layout-color3: #383838;\n",
       "                }\n",
       "\n",
       "                .geemap-colab {\n",
       "                    background-color: var(--colab-primary-surface-color, white);\n",
       "                }\n",
       "\n",
       "                .geemap-colab .jupyter-button {\n",
       "                    --jp-layout-color3: var(--colab-primary-surface-color, white);\n",
       "                }\n",
       "            </style>\n",
       "            "
      ],
      "text/plain": [
       "<IPython.core.display.HTML object>"
      ]
     },
     "metadata": {},
     "output_type": "display_data"
    },
    {
     "name": "stdout",
     "output_type": "stream",
     "text": [
      "GEE initialized\n"
     ]
    }
   ],
   "source": [
    "import ee\n",
    "credentials = ee.ServiceAccountCredentials(\n",
    "     'blue051407@gmail.com',  # Service account email\n",
    "     'global-flood-mapping-a7463d9cfde6.json'  # Path to service account key file\n",
    " )\n",
    "ee.Initialize(credentials)\n",
    "\n",
    "# Test the initialization\n",
    "print(ee.String('GEE initialized').getInfo())"
   ]
  },
  {
   "cell_type": "code",
   "execution_count": 2,
   "id": "b958ff93-fed3-4a4b-a97f-06b6243f765a",
   "metadata": {
    "scrolled": true
   },
   "outputs": [
    {
     "data": {
      "application/vnd.jupyter.widget-view+json": {
       "model_id": "472660d526804c138daef39ba66a0366",
       "version_major": 2,
       "version_minor": 0
      },
      "text/plain": [
       "Map(center=[17.7009, 83.277], controls=(WidgetControl(options=['position', 'transparent_bg'], widget=SearchDat…"
      ]
     },
     "execution_count": 2,
     "metadata": {},
     "output_type": "execute_result"
    }
   ],
   "source": [
    "import geemap\n",
    "\n",
    "def mask_s2_clouds(image):\n",
    "  \"\"\"Masks clouds in a Sentinel-2 image using the QA band.\n",
    "\n",
    "  Args:\n",
    "      image (ee.Image): A Sentinel-2 image.\n",
    "\n",
    "  Returns:\n",
    "      ee.Image: A cloud-masked Sentinel-2 image.\n",
    "  \"\"\"\n",
    "  qa = image.select('QA60')\n",
    "\n",
    "  # Bits 10 and 11 are clouds and cirrus, respectively.\n",
    "  cloud_bit_mask = 1 << 10\n",
    "  cirrus_bit_mask = 1 << 11\n",
    "\n",
    "  # Both flags should be set to zero, indicating clear conditions.\n",
    "  mask = (\n",
    "      qa.bitwiseAnd(cloud_bit_mask)\n",
    "      .eq(0)\n",
    "      .And(qa.bitwiseAnd(cirrus_bit_mask).eq(0))\n",
    "  )\n",
    "\n",
    "  return image.updateMask(mask).divide(10000)\n",
    "\n",
    "\n",
    "dataset = (\n",
    "    ee.ImageCollection('COPERNICUS/S2_SR_HARMONIZED')\n",
    "    .filterDate('2020-01-01', '2020-01-30')\n",
    "    # Pre-filter to get less cloudy granules.\n",
    "    .filter(ee.Filter.lt('CLOUDY_PIXEL_PERCENTAGE', 20))\n",
    "    .map(mask_s2_clouds)\n",
    ")\n",
    "\n",
    "visualization = {\n",
    "    'min': 0.0,\n",
    "    'max': 0.3,\n",
    "    'bands': ['B4', 'B3', 'B2'],\n",
    "}\n",
    "\n",
    "m = geemap.Map()\n",
    "m.set_center(83.277, 17.7009, 12)\n",
    "m.add_layer(dataset.mean(), visualization, 'RGB')\n",
    "m"
   ]
  },
  {
   "cell_type": "code",
   "execution_count": 7,
   "id": "5f138fe6-d897-49bf-bf48-cb3e1048bca2",
   "metadata": {},
   "outputs": [
    {
     "data": {
      "text/html": [
       "\n",
       "            <style>\n",
       "                .geemap-dark {\n",
       "                    --jp-widgets-color: white;\n",
       "                    --jp-widgets-label-color: white;\n",
       "                    --jp-ui-font-color1: white;\n",
       "                    --jp-layout-color2: #454545;\n",
       "                    background-color: #383838;\n",
       "                }\n",
       "\n",
       "                .geemap-dark .jupyter-button {\n",
       "                    --jp-layout-color3: #383838;\n",
       "                }\n",
       "\n",
       "                .geemap-colab {\n",
       "                    background-color: var(--colab-primary-surface-color, white);\n",
       "                }\n",
       "\n",
       "                .geemap-colab .jupyter-button {\n",
       "                    --jp-layout-color3: var(--colab-primary-surface-color, white);\n",
       "                }\n",
       "            </style>\n",
       "            "
      ],
      "text/plain": [
       "<IPython.core.display.HTML object>"
      ]
     },
     "metadata": {},
     "output_type": "display_data"
    },
    {
     "name": "stdin",
     "output_type": "stream",
     "text": [
      "Enter start date (YYYY-MM-DD):  2021-01-01\n",
      "Enter end date (YYYY-MM-DD):  2021-01-30\n"
     ]
    },
    {
     "name": "stdout",
     "output_type": "stream",
     "text": [
      "Enter bounding box coordinates:\n"
     ]
    },
    {
     "name": "stdin",
     "output_type": "stream",
     "text": [
      "Min longitude:  120\n",
      "Min latitude:  20\n",
      "Max longitude:  125\n",
      "Max latitude:  25\n"
     ]
    },
    {
     "name": "stdout",
     "output_type": "stream",
     "text": [
      "Image_count: 80\n"
     ]
    },
    {
     "data": {
      "application/vnd.jupyter.widget-view+json": {
       "model_id": "ceb2818eb80e4580bfc2011e95ea8c6c",
       "version_major": 2,
       "version_minor": 0
      },
      "text/plain": [
       "Map(center=[0, 0], controls=(WidgetControl(options=['position', 'transparent_bg'], widget=SearchDataGUI(childr…"
      ]
     },
     "execution_count": 7,
     "metadata": {},
     "output_type": "execute_result"
    }
   ],
   "source": [
    "import ee\n",
    "import geemap\n",
    "\n",
    "# 初始化 Earth Engine\n",
    "#ee.Initialize()\n",
    "\n",
    "# 雲遮罩函數\n",
    "def mask_s2_clouds(image):\n",
    "    qa = image.select('QA60')\n",
    "    cloud_bit_mask = 1 << 10\n",
    "    cirrus_bit_mask = 1 << 11\n",
    "    mask = (\n",
    "        qa.bitwiseAnd(cloud_bit_mask).eq(0)\n",
    "        .And(qa.bitwiseAnd(cirrus_bit_mask).eq(0))\n",
    "    )\n",
    "    return image.updateMask(mask).divide(10000)\n",
    "\n",
    "# 使用者輸入日期範圍\n",
    "start_date = input(\"Enter start date (YYYY-MM-DD): \")\n",
    "end_date = input(\"Enter end date (YYYY-MM-DD): \")\n",
    "\n",
    "# 使用者輸入空間範圍\n",
    "print(\"Enter bounding box coordinates:\")\n",
    "min_lon = float(input(\"Min longitude: \"))\n",
    "min_lat = float(input(\"Min latitude: \"))\n",
    "max_lon = float(input(\"Max longitude: \"))\n",
    "max_lat = float(input(\"Max latitude: \"))\n",
    "\n",
    "# 建立矩形區域\n",
    "area = ee.Geometry.Rectangle([min_lon, min_lat, max_lon, max_lat])\n",
    "\n",
    "# 擷取資料集\n",
    "dataset = (\n",
    "    ee.ImageCollection('COPERNICUS/S2_SR_HARMONIZED')\n",
    "    .filterBounds(area)\n",
    "    .filterDate(start_date, end_date)\n",
    "    .filter(ee.Filter.lt('CLOUDY_PIXEL_PERCENTAGE', 20))\n",
    "    .map(mask_s2_clouds)\n",
    ")\n",
    "\n",
    "# 可視化參數\n",
    "visualization = {\n",
    "    'min': 0.0,\n",
    "    'max': 0.3,\n",
    "    'bands': ['B4', 'B3', 'B2'],\n",
    "}\n",
    "Image_count = dataset.size().getInfo()\n",
    "print(\"Image_count:\", dataset.size().getInfo())\n",
    "\n",
    "if Image_count == 0:\n",
    "    print(\"No image.\")\n",
    "    \n",
    "# 顯示地圖\n",
    "m = geemap.Map()\n",
    "m.centerObject(area)  # 自動依據 area 置中並選擇適當 zoom\n",
    "m.add_layer(dataset.mean(), visualization, 'Sentinel-2 RGB')\n",
    "m\n",
    "\n",
    "\n",
    "\n",
    "\n"
   ]
  },
  {
   "cell_type": "code",
   "execution_count": 13,
   "id": "85d4d530-7f33-4c87-8051-70a180e2762e",
   "metadata": {},
   "outputs": [
    {
     "data": {
      "text/html": [
       "\n",
       "            <style>\n",
       "                .geemap-dark {\n",
       "                    --jp-widgets-color: white;\n",
       "                    --jp-widgets-label-color: white;\n",
       "                    --jp-ui-font-color1: white;\n",
       "                    --jp-layout-color2: #454545;\n",
       "                    background-color: #383838;\n",
       "                }\n",
       "\n",
       "                .geemap-dark .jupyter-button {\n",
       "                    --jp-layout-color3: #383838;\n",
       "                }\n",
       "\n",
       "                .geemap-colab {\n",
       "                    background-color: var(--colab-primary-surface-color, white);\n",
       "                }\n",
       "\n",
       "                .geemap-colab .jupyter-button {\n",
       "                    --jp-layout-color3: var(--colab-primary-surface-color, white);\n",
       "                }\n",
       "            </style>\n",
       "            "
      ],
      "text/plain": [
       "<IPython.core.display.HTML object>"
      ]
     },
     "metadata": {},
     "output_type": "display_data"
    },
    {
     "name": "stdin",
     "output_type": "stream",
     "text": [
      "Enter start date (YYYY-MM-DD):  2022-05-23\n",
      "Enter end date (YYYY-MM-DD):  2022-06-24\n"
     ]
    },
    {
     "name": "stdout",
     "output_type": "stream",
     "text": [
      "Enter bounding box coordinates:\n"
     ]
    },
    {
     "name": "stdin",
     "output_type": "stream",
     "text": [
      "Min longitude:  91\n",
      "Min latitude:  24\n",
      "Max longitude:  93\n",
      "Max latitude:  26.2\n"
     ]
    },
    {
     "name": "stdout",
     "output_type": "stream",
     "text": [
      "Image_count: 1\n"
     ]
    },
    {
     "data": {
      "application/vnd.jupyter.widget-view+json": {
       "model_id": "b8d1942f82c446a3835ba5ea669cefea",
       "version_major": 2,
       "version_minor": 0
      },
      "text/plain": [
       "Map(center=[0, 0], controls=(WidgetControl(options=['position', 'transparent_bg'], widget=SearchDataGUI(childr…"
      ]
     },
     "execution_count": 13,
     "metadata": {},
     "output_type": "execute_result"
    }
   ],
   "source": [
    "import ee\n",
    "import geemap\n",
    "\n",
    "# ee.Initialize()\n",
    "\n",
    "def mask_s2_clouds(image):\n",
    "    qa = image.select('QA60')\n",
    "    cloud_bit_mask = 1 << 10\n",
    "    cirrus_bit_mask = 1 << 11\n",
    "    mask = (\n",
    "        qa.bitwiseAnd(cloud_bit_mask).eq(0)\n",
    "        .And(qa.bitwiseAnd(cirrus_bit_mask).eq(0))\n",
    "    )\n",
    "    return image.updateMask(mask).divide(10000)\n",
    "\n",
    "# ---- 使用者輸入 ----\n",
    "start_date = input(\"Enter start date (YYYY-MM-DD): \")\n",
    "end_date = input(\"Enter end date (YYYY-MM-DD): \")\n",
    "\n",
    "print(\"Enter bounding box coordinates:\")\n",
    "min_lon = float(input(\"Min longitude: \"))\n",
    "min_lat = float(input(\"Min latitude: \"))\n",
    "max_lon = float(input(\"Max longitude: \"))\n",
    "max_lat = float(input(\"Max latitude: \"))\n",
    "\n",
    "area = ee.Geometry.Rectangle([min_lon, min_lat, max_lon, max_lat])\n",
    "\n",
    "# ---- 影像集 ----\n",
    "dataset = (\n",
    "    ee.ImageCollection('COPERNICUS/S2_SR_HARMONIZED')\n",
    "    .filterBounds(area)\n",
    "    .filterDate(start_date, end_date)\n",
    "    .filter(ee.Filter.lt('CLOUDY_PIXEL_PERCENTAGE', 20))\n",
    "    .map(mask_s2_clouds)\n",
    ")\n",
    "\n",
    "count = dataset.size().getInfo()\n",
    "print(\"Image_count:\", count)\n",
    "if count == 0:\n",
    "    raise SystemExit(\"No image.\")\n",
    "\n",
    "# 用 mean（或 median）彙整\n",
    "img = dataset.mean()\n",
    "\n",
    "# ---- 可視化參數 ----\n",
    "rgb_vis = {'min': 0.0, 'max': 0.3, 'bands': ['B4', 'B3', 'B2']}\n",
    "\n",
    "# 單波段建議範圍（可依場景調整）\n",
    "band_vis = {\n",
    "    'B2': {'min': 0.0, 'max': 0.3},  # Blue\n",
    "    'B3': {'min': 0.0, 'max': 0.3},  # Green\n",
    "    'B4': {'min': 0.0, 'max': 0.3},  # Red\n",
    "    'B8': {'min': 0.0, 'max': 0.6},  # NIR 通常反射較高\n",
    "}\n",
    "\n",
    "# ---- 地圖顯示 ----\n",
    "m = geemap.Map()\n",
    "m.centerObject(area)\n",
    "\n",
    "# 參考的 RGB 圖層\n",
    "m.add_layer(img, rgb_vis, 'Sentinel-2 RGB')\n",
    "\n",
    "# 四個單波段圖層\n",
    "for b, vis in band_vis.items():\n",
    "    m.add_layer(img.select(b), vis, f'S2 {b}')\n",
    "\n",
    "# 圖層控制（顯示左側圖層清單）\n",
    "try:\n",
    "    m.add_layer_control()\n",
    "except Exception:\n",
    "    # 依 geemap 版本，有些是 addLayerControl()\n",
    "    try:\n",
    "        m.addLayerControl()\n",
    "    except Exception:\n",
    "        pass\n",
    "\n",
    "m\n"
   ]
  },
  {
   "cell_type": "code",
   "execution_count": 3,
   "id": "f65b1f13-ed24-4f7b-b473-48cceb66ac30",
   "metadata": {},
   "outputs": [
    {
     "data": {
      "text/html": [
       "\n",
       "            <style>\n",
       "                .geemap-dark {\n",
       "                    --jp-widgets-color: white;\n",
       "                    --jp-widgets-label-color: white;\n",
       "                    --jp-ui-font-color1: white;\n",
       "                    --jp-layout-color2: #454545;\n",
       "                    background-color: #383838;\n",
       "                }\n",
       "\n",
       "                .geemap-dark .jupyter-button {\n",
       "                    --jp-layout-color3: #383838;\n",
       "                }\n",
       "\n",
       "                .geemap-colab {\n",
       "                    background-color: var(--colab-primary-surface-color, white);\n",
       "                }\n",
       "\n",
       "                .geemap-colab .jupyter-button {\n",
       "                    --jp-layout-color3: var(--colab-primary-surface-color, white);\n",
       "                }\n",
       "            </style>\n",
       "            "
      ],
      "text/plain": [
       "<IPython.core.display.HTML object>"
      ]
     },
     "metadata": {},
     "output_type": "display_data"
    },
    {
     "name": "stdin",
     "output_type": "stream",
     "text": [
      "Enter start date (YYYY-MM-DD):  2021-01-01\n",
      "Enter end date (YYYY-MM-DD):  2021-01-30\n"
     ]
    },
    {
     "name": "stdout",
     "output_type": "stream",
     "text": [
      "Enter bounding box coordinates:\n"
     ]
    },
    {
     "name": "stdin",
     "output_type": "stream",
     "text": [
      "Min longitude:  121\n",
      "Min latitude:  22\n",
      "Max longitude:  121.5\n",
      "Max latitude:  22.5\n"
     ]
    },
    {
     "name": "stdout",
     "output_type": "stream",
     "text": [
      "Image_count: 3\n"
     ]
    },
    {
     "data": {
      "application/vnd.jupyter.widget-view+json": {
       "model_id": "3aa3810b96a045898cc5ff9f5ddd1472",
       "version_major": 2,
       "version_minor": 0
      },
      "text/plain": [
       "Map(center=[0, 0], controls=(WidgetControl(options=['position', 'transparent_bg'], widget=SearchDataGUI(childr…"
      ]
     },
     "metadata": {},
     "output_type": "display_data"
    },
    {
     "name": "stdin",
     "output_type": "stream",
     "text": [
      "輸入想下載的波段（例如：B2,B3,B4 或 B8）： B2\n",
      "輸出檔名（含路徑，預設: s2_B2.tif）： s2_B2.tif\n",
      "輸出成單一多波段 GeoTIFF 還是每波段一個檔？輸入 multi/single（預設 multi）： multi\n",
      "scale（公尺，預設 10）： 10\n"
     ]
    },
    {
     "name": "stdout",
     "output_type": "stream",
     "text": [
      "Exporting -> s2_B2.tif\n",
      "Generating URL ...\n",
      "An error occurred while downloading.\n",
      "Total request size (155040950 bytes) must be less than or equal to 50331648 bytes.\n",
      "輸出完成。\n"
     ]
    }
   ],
   "source": [
    "import ee\n",
    "import geemap\n",
    "import os\n",
    "\n",
    "# ee.Initialize()\n",
    "\n",
    "# ---- 雲遮罩 ----\n",
    "def mask_s2_clouds(image):\n",
    "    qa = image.select('QA60')\n",
    "    cloud_bit_mask = 1 << 10\n",
    "    cirrus_bit_mask = 1 << 11\n",
    "    mask = (\n",
    "        qa.bitwiseAnd(cloud_bit_mask).eq(0)\n",
    "        .And(qa.bitwiseAnd(cirrus_bit_mask).eq(0))\n",
    "    )\n",
    "    return image.updateMask(mask).divide(10000)\n",
    "\n",
    "# ---- 使用者輸入 ----\n",
    "start_date = input(\"Enter start date (YYYY-MM-DD): \")\n",
    "end_date = input(\"Enter end date (YYYY-MM-DD): \")\n",
    "\n",
    "print(\"Enter bounding box coordinates:\")\n",
    "min_lon = float(input(\"Min longitude: \"))\n",
    "min_lat = float(input(\"Min latitude: \"))\n",
    "max_lon = float(input(\"Max longitude: \"))\n",
    "max_lat = float(input(\"Max latitude: \"))\n",
    "\n",
    "area = ee.Geometry.Rectangle([min_lon, min_lat, max_lon, max_lat])\n",
    "\n",
    "# ---- 影像集 ----\n",
    "dataset = (\n",
    "    ee.ImageCollection('COPERNICUS/S2_SR_HARMONIZED')\n",
    "    .filterBounds(area)\n",
    "    .filterDate(start_date, end_date)\n",
    "    .filter(ee.Filter.lt('CLOUDY_PIXEL_PERCENTAGE', 20))\n",
    "    .map(mask_s2_clouds)\n",
    ")\n",
    "\n",
    "count = dataset.size().getInfo()\n",
    "print(\"Image_count:\", count)\n",
    "if count == 0:\n",
    "    raise SystemExit(\"No image.\")\n",
    "\n",
    "# 用 mean（也可改 median）\n",
    "img = dataset.mean()\n",
    "\n",
    "# ---- 地圖顯示（選擇性）----\n",
    "rgb_vis = {'min': 0.0, 'max': 0.3, 'bands': ['B4', 'B3', 'B2']}\n",
    "m = geemap.Map()\n",
    "m.centerObject(area)\n",
    "m.add_layer(img, rgb_vis, 'Sentinel-2 RGB')\n",
    "try:\n",
    "    m.add_layer_control()\n",
    "except:\n",
    "    try:\n",
    "        m.addLayerControl()\n",
    "    except:\n",
    "        pass\n",
    "display(m)\n",
    "\n",
    "# ---- 下載選項 ----\n",
    "valid_bands = {'B2','B3','B4','B8'}\n",
    "band_str = input(\"輸入想下載的波段（例如：B2,B3,B4 或 B8）：\").strip()\n",
    "selected = [b.strip().upper() for b in band_str.split(',') if b.strip()]\n",
    "\n",
    "# 驗證波段\n",
    "for b in selected:\n",
    "    if b not in valid_bands:\n",
    "        raise ValueError(f\"無效波段：{b}，可用波段為 {sorted(valid_bands)}\")\n",
    "\n",
    "# 匯出設定\n",
    "default_out = \"s2_selected.tif\" if len(selected) > 1 else f\"s2_{selected[0]}.tif\"\n",
    "out_path = input(f\"輸出檔名（含路徑，預設: {default_out}）：\").strip() or default_out\n",
    "\n",
    "# 單一多波段 或 每波段一檔\n",
    "mode = input(\"輸出成單一多波段 GeoTIFF 還是每波段一個檔？輸入 multi/single（預設 multi）：\").strip().lower() or \"multi\"\n",
    "\n",
    "# 解析度（公尺）\n",
    "scale_in = input(\"scale（公尺，預設 10）：\").strip()\n",
    "scale = int(scale_in) if scale_in else 10\n",
    "\n",
    "# 產生輸出資料夾\n",
    "out_dir = os.path.dirname(out_path) or \".\"\n",
    "os.makedirs(out_dir, exist_ok=True)\n",
    "\n",
    "# 影像裁切並挑選波段\n",
    "sel_img = img.select(selected).clip(area)\n",
    "\n",
    "# ---- 匯出 ----\n",
    "if mode == \"single\" and len(selected) > 1:\n",
    "    # 每個波段各輸出一個檔案\n",
    "    base, ext = os.path.splitext(out_path)\n",
    "    for b in selected:\n",
    "        fn = f\"{base}_{b}{ext or '.tif'}\"\n",
    "        print(f\"Exporting band {b} -> {fn}\")\n",
    "        geemap.ee_export_image(\n",
    "            sel_img.select(b),\n",
    "            filename=fn,\n",
    "            scale=scale,\n",
    "            region=area,\n",
    "            file_per_band=False,\n",
    "            crs='EPSG:4326'  # 單波段不用拆\n",
    "        )\n",
    "    print(\"所有單波段檔案已輸出完成。\")\n",
    "else:\n",
    "    # 單一（多波段）GeoTIFF 或者原本就只有一個波段\n",
    "    print(f\"Exporting multi-band -> {out_path}\" if len(selected) > 1 else f\"Exporting -> {out_path}\")\n",
    "    geemap.ee_export_image(\n",
    "        sel_img,\n",
    "        filename=out_path,\n",
    "        scale=scale,\n",
    "    \n",
    "        region=area,\n",
    "        file_per_band=False,\n",
    "        crs='EPSG:4326'  # 設 True 會把每個 band 拆成獨立檔案\n",
    "    )\n",
    "    print(\"輸出完成。\")\n",
    "#geemap.download_ee_image(image, filename='test.tif', region=area, scale=10, crs='EPSG:4326')"
   ]
  }
 ],
 "metadata": {
  "kernelspec": {
   "display_name": "Python 3 (ipykernel)",
   "language": "python",
   "name": "python3"
  },
  "language_info": {
   "codemirror_mode": {
    "name": "ipython",
    "version": 3
   },
   "file_extension": ".py",
   "mimetype": "text/x-python",
   "name": "python",
   "nbconvert_exporter": "python",
   "pygments_lexer": "ipython3",
   "version": "3.11.5"
  }
 },
 "nbformat": 4,
 "nbformat_minor": 5
}
